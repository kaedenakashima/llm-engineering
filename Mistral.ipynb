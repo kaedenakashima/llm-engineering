{
 "cells": [
  {
   "cell_type": "code",
   "execution_count": 3,
   "id": "079d7a55-0959-48c1-9db0-4ed260c7c409",
   "metadata": {},
   "outputs": [
    {
     "name": "stdout",
     "output_type": "stream",
     "text": [
      "Collecting mistralai\n",
      "  Downloading mistralai-1.6.0-py3-none-any.whl.metadata (30 kB)\n",
      "Collecting eval-type-backport>=0.2.0 (from mistralai)\n",
      "  Downloading eval_type_backport-0.2.2-py3-none-any.whl.metadata (2.2 kB)\n",
      "Requirement already satisfied: httpx>=0.28.1 in /opt/anaconda3/envs/llms/lib/python3.11/site-packages (from mistralai) (0.28.1)\n",
      "Requirement already satisfied: pydantic>=2.10.3 in /opt/anaconda3/envs/llms/lib/python3.11/site-packages (from mistralai) (2.10.6)\n",
      "Requirement already satisfied: python-dateutil>=2.8.2 in /opt/anaconda3/envs/llms/lib/python3.11/site-packages (from mistralai) (2.9.0.post0)\n",
      "Collecting typing-inspection>=0.4.0 (from mistralai)\n",
      "  Downloading typing_inspection-0.4.0-py3-none-any.whl.metadata (2.6 kB)\n",
      "Requirement already satisfied: anyio in /opt/anaconda3/envs/llms/lib/python3.11/site-packages (from httpx>=0.28.1->mistralai) (4.8.0)\n",
      "Requirement already satisfied: certifi in /opt/anaconda3/envs/llms/lib/python3.11/site-packages (from httpx>=0.28.1->mistralai) (2025.1.31)\n",
      "Requirement already satisfied: httpcore==1.* in /opt/anaconda3/envs/llms/lib/python3.11/site-packages (from httpx>=0.28.1->mistralai) (1.0.7)\n",
      "Requirement already satisfied: idna in /opt/anaconda3/envs/llms/lib/python3.11/site-packages (from httpx>=0.28.1->mistralai) (3.10)\n",
      "Requirement already satisfied: h11<0.15,>=0.13 in /opt/anaconda3/envs/llms/lib/python3.11/site-packages (from httpcore==1.*->httpx>=0.28.1->mistralai) (0.14.0)\n",
      "Requirement already satisfied: annotated-types>=0.6.0 in /opt/anaconda3/envs/llms/lib/python3.11/site-packages (from pydantic>=2.10.3->mistralai) (0.7.0)\n",
      "Requirement already satisfied: pydantic-core==2.27.2 in /opt/anaconda3/envs/llms/lib/python3.11/site-packages (from pydantic>=2.10.3->mistralai) (2.27.2)\n",
      "Requirement already satisfied: typing-extensions>=4.12.2 in /opt/anaconda3/envs/llms/lib/python3.11/site-packages (from pydantic>=2.10.3->mistralai) (4.12.2)\n",
      "Requirement already satisfied: six>=1.5 in /opt/anaconda3/envs/llms/lib/python3.11/site-packages (from python-dateutil>=2.8.2->mistralai) (1.17.0)\n",
      "Requirement already satisfied: sniffio>=1.1 in /opt/anaconda3/envs/llms/lib/python3.11/site-packages (from anyio->httpx>=0.28.1->mistralai) (1.3.1)\n",
      "Downloading mistralai-1.6.0-py3-none-any.whl (288 kB)\n",
      "Downloading eval_type_backport-0.2.2-py3-none-any.whl (5.8 kB)\n",
      "Downloading typing_inspection-0.4.0-py3-none-any.whl (14 kB)\n",
      "Installing collected packages: typing-inspection, eval-type-backport, mistralai\n",
      "Successfully installed eval-type-backport-0.2.2 mistralai-1.6.0 typing-inspection-0.4.0\n"
     ]
    }
   ],
   "source": [
    "!pip install mistralai "
   ]
  },
  {
   "cell_type": "code",
   "execution_count": 8,
   "id": "da0cd392-fec5-4837-a480-ea2d7a307302",
   "metadata": {},
   "outputs": [
    {
     "name": "stdout",
     "output_type": "stream",
     "text": [
      "Determining the \"best\" French cheese can be quite subjective, as it depends on personal taste preferences. France is renowned for its diverse and rich cheese-making traditions, with over 400 types of cheese available. Here are a few highly regarded French cheeses that are often praised for their unique flavors and qualities:\n",
      "\n",
      "1. **Camembert de Normandie**: A soft, creamy cheese from Normandy, known for its rich, buttery flavor and bloomy rind.\n",
      "2. **Brie de Meaux**: Another soft cheese, this time from the Île-de-France region, with a mild, slightly nutty flavor and a creamy texture.\n",
      "3. **Roquefort**: A blue cheese made from sheep's milk, known for its tangy, salty flavor and crumbly texture. It is one of the oldest known cheeses.\n",
      "4. **Comté**: A hard cheese from the Jura region, made from unpasteurized cow's milk. It has a complex, nutty flavor and a firm texture.\n",
      "5. **Reblochon**: A soft washed-rind and smear-ripened cheese from the Alps, known for its strong aroma and creamy, nutty flavor.\n",
      "6. **Raclette**: A semi-hard cheese from the Alps, traditionally melted and scraped onto a plate, known for its rich, savory flavor.\n",
      "7. **Munster**: A soft washed-rind cheese from the Vosges region, known for its strong aroma and smooth, creamy texture.\n",
      "\n",
      "Each of these cheeses offers a unique culinary experience, so the \"best\" one will depend on your personal preferences.\n"
     ]
    }
   ],
   "source": [
    "import os\n",
    "from mistralai import Mistral\n",
    "from dotenv import load_dotenv\n",
    "load_dotenv()\n",
    "api_key = os.environ[\"MISTRAL_API_KEY\"]\n",
    "model = \"mistral-large-latest\"\n",
    "\n",
    "client = Mistral(api_key=api_key)\n",
    "\n",
    "chat_response = client.chat.complete(\n",
    "    model= model,\n",
    "    messages = [\n",
    "        {\n",
    "            \"role\": \"user\",\n",
    "            \"content\": \"What is the best French cheese?\",\n",
    "        },\n",
    "    ]\n",
    ")\n",
    "print(chat_response.choices[0].message.content)"
   ]
  },
  {
   "cell_type": "code",
   "execution_count": null,
   "id": "b5655465-e311-4c31-9dca-b5093430d8fd",
   "metadata": {},
   "outputs": [],
   "source": []
  }
 ],
 "metadata": {
  "kernelspec": {
   "display_name": "Python 3 (ipykernel)",
   "language": "python",
   "name": "python3"
  },
  "language_info": {
   "codemirror_mode": {
    "name": "ipython",
    "version": 3
   },
   "file_extension": ".py",
   "mimetype": "text/x-python",
   "name": "python",
   "nbconvert_exporter": "python",
   "pygments_lexer": "ipython3",
   "version": "3.11.11"
  }
 },
 "nbformat": 4,
 "nbformat_minor": 5
}
