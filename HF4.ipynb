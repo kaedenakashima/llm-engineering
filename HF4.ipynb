{
 "cells": [
  {
   "cell_type": "markdown",
   "id": "4cc44f0f-3207-49c5-9381-aa2aa654a81e",
   "metadata": {},
   "source": [
    "# others"
   ]
  },
  {
   "cell_type": "code",
   "execution_count": 1,
   "id": "bd89d7f0-a933-4299-b57b-61b8ccc0ab13",
   "metadata": {},
   "outputs": [
    {
     "name": "stdout",
     "output_type": "stream",
     "text": [
      "282.7600\n",
      "268.4600\n",
      "14.300000000000011\n",
      "5\n"
     ]
    },
    {
     "name": "stderr",
     "output_type": "stream",
     "text": [
      "No model was supplied, defaulted to distilbert/distilbert-base-uncased-finetuned-sst-2-english and revision 714eb0f (https://huggingface.co/distilbert/distilbert-base-uncased-finetuned-sst-2-english).\n",
      "Using a pipeline without specifying a model name and revision in production is not recommended.\n",
      "Device set to use mps:0\n"
     ]
    },
    {
     "name": "stdout",
     "output_type": "stream",
     "text": [
      "[{'label': 'NEGATIVE', 'score': 0.6935727000236511}]\n"
     ]
    }
   ],
   "source": [
    "# python3 -m venv venv\n",
    "# pip install twilio requests\n",
    "import os\n",
    "import requests\n",
    "from twilio.rest import Client\n",
    "from huggingface_hub import HfFolder, whoami, create_inference_endpoint, login, InferenceClient\n",
    "from transformers import AutoTokenizer\n",
    "from dotenv import load_dotenv\n",
    "from transformers import pipeline,AutoModelForSequenceClassification, AutoTokenizer\n",
    "from transformers.utils import logging\n",
    "load_dotenv()\n",
    "STOCK_NAME=\"TSLA\"\n",
    "COMPANY_NAME=\"Tesla Inc\"\n",
    "STOCK_ENDPOINT=\"https://www.alphavantage.co/query\"\n",
    "NEWS_ENDPOINT=\"https://newsapi.org/v2/everything\"\n",
    "STOCK_API_KEY=os.environ['STOCK_API_KEY']\n",
    "NEWS_API_KEY=os.environ['NEWS_API_KEY']\n",
    "TWILIO_SID=os.environ['TWILIO_SID']\n",
    "TWILIO_AUTH_TOKEN=os.environ['TWILIO_AUTH_TOKEN']\n",
    "stock_params = {\n",
    "    \"function\":\"TIME_SERIES_DAILY\",\n",
    "    \"symbol\":STOCK_NAME,\n",
    "    \"apikey\":STOCK_API_KEY\n",
    "}\n",
    "response = requests.get(STOCK_ENDPOINT, params=stock_params)\n",
    "data = response.json()[\"Time Series (Daily)\"]\n",
    "data_list = [value for (key, value) in data.items()]\n",
    "yesterday_data = data_list[0]\n",
    "yesterday_closing_price = yesterday_data[\"4. close\"]\n",
    "print(yesterday_closing_price)\n",
    "day_before_yesterday_data = data_list[1]\n",
    "day_before_yesterday_closing_price =day_before_yesterday_data[\"4. close\"]\n",
    "print(day_before_yesterday_closing_price)\n",
    "\n",
    "difference = float(yesterday_closing_price) - float(day_before_yesterday_closing_price)\n",
    "up_down=None\n",
    "if difference > 0:\n",
    "    up_down='🔺'\n",
    "else:\n",
    "    up_down = '🔻'\n",
    "diff_percent = round((difference /float(yesterday_closing_price))*100)\n",
    "print(difference)\n",
    "print(diff_percent)\n",
    "if abs(diff_percent) > 1:\n",
    "    news_params={\n",
    "        \"apiKey\":NEWS_API_KEY,\n",
    "        \"qInTitle\":COMPANY_NAME,\n",
    "    }\n",
    "    news_response=requests.get(NEWS_ENDPOINT, params=news_params)\n",
    "    articles=news_response.json()[\"articles\"]\n",
    "    three_articles=articles[:3]\n",
    "    classifier = pipeline('sentiment-analysis')\n",
    "    res= classifier(three_articles[2]['content'])\n",
    "    print(res)\n",
    "#1 summerize \n",
    "#2 judge emotion"
   ]
  },
  {
   "cell_type": "code",
   "execution_count": 10,
   "id": "cc1db619-f671-412d-930f-6d56e00c15e2",
   "metadata": {},
   "outputs": [
    {
     "name": "stdout",
     "output_type": "stream",
     "text": [
      "If you click 'Accept all', we and our partners, including 238 who are part of the IAB Transparency &amp; Consent Framework, will also store and/or access information on a device (in other words, use … [+702 chars]\n"
     ]
    }
   ],
   "source": [
    "data = [{'source': {'id': None, 'name': 'Yahoo Entertainment'}, 'author': None, 'title': 'Is Tesla, Inc. (TSLA) The Best EV Stock to Buy According to Billionaires?', 'description': None, 'url': 'https://consent.yahoo.com/v2/collectConsent?sessionId=1_cc-session_da1dfd40-72c1-41d5-a0a6-b896b5be1ba0', 'urlToImage': None, 'publishedAt': '2025-03-10T19:52:03Z', 'content': \"If you click 'Accept all', we and our partners, including 238 who are part of the IAB Transparency &amp; Consent Framework, will also store and/or access information on a device (in other words, use … [+702 chars]\"}]\n",
    "print(data[0]['content'])\n"
   ]
  },
  {
   "cell_type": "code",
   "execution_count": 17,
   "id": "b4e43e50-cab2-45c3-800a-68f5fcd61eb9",
   "metadata": {},
   "outputs": [
    {
     "name": "stderr",
     "output_type": "stream",
     "text": [
      "huggingface/tokenizers: The current process just got forked, after parallelism has already been used. Disabling parallelism to avoid deadlocks...\n",
      "To disable this warning, you can either:\n",
      "\t- Avoid using `tokenizers` before the fork if possible\n",
      "\t- Explicitly set the environment variable TOKENIZERS_PARALLELISM=(true | false)\n"
     ]
    },
    {
     "name": "stdout",
     "output_type": "stream",
     "text": [
      "Collecting newsapi-python\n",
      "  Downloading newsapi_python-0.2.7-py2.py3-none-any.whl.metadata (1.2 kB)\n",
      "Requirement already satisfied: requests<3.0.0 in /opt/anaconda3/envs/llms/lib/python3.11/site-packages (from newsapi-python) (2.32.3)\n",
      "Requirement already satisfied: charset_normalizer<4,>=2 in /opt/anaconda3/envs/llms/lib/python3.11/site-packages (from requests<3.0.0->newsapi-python) (3.4.1)\n",
      "Requirement already satisfied: idna<4,>=2.5 in /opt/anaconda3/envs/llms/lib/python3.11/site-packages (from requests<3.0.0->newsapi-python) (3.10)\n",
      "Requirement already satisfied: urllib3<3,>=1.21.1 in /opt/anaconda3/envs/llms/lib/python3.11/site-packages (from requests<3.0.0->newsapi-python) (2.3.0)\n",
      "Requirement already satisfied: certifi>=2017.4.17 in /opt/anaconda3/envs/llms/lib/python3.11/site-packages (from requests<3.0.0->newsapi-python) (2025.1.31)\n",
      "Downloading newsapi_python-0.2.7-py2.py3-none-any.whl (7.9 kB)\n",
      "Installing collected packages: newsapi-python\n",
      "Successfully installed newsapi-python-0.2.7\n"
     ]
    }
   ],
   "source": [
    "!pip install newsapi-python"
   ]
  },
  {
   "cell_type": "code",
   "execution_count": 2,
   "id": "d60f51f4-9cc4-46a8-aa6f-56a2a031432b",
   "metadata": {
    "scrolled": true
   },
   "outputs": [
    {
     "name": "stderr",
     "output_type": "stream",
     "text": [
      "No model was supplied, defaulted to distilbert/distilbert-base-uncased-finetuned-sst-2-english and revision 714eb0f (https://huggingface.co/distilbert/distilbert-base-uncased-finetuned-sst-2-english).\n",
      "Using a pipeline without specifying a model name and revision in production is not recommended.\n"
     ]
    },
    {
     "name": "stdout",
     "output_type": "stream",
     "text": [
      "{'source': {'id': 'the-verge', 'name': 'The Verge'}, 'author': 'Andrew Liszewski', 'title': 'Apple says it’ll use Apple Maps Look Around photos to train AI', 'description': 'Sometime earlier this month, Apple updated a section of its website that discloses how it collects and uses imagery for Apple Maps’ Look Around feature, which is similar to Google Maps’ Street View, as spotted by 9to5Mac. A newly added paragraph reveals that,…', 'url': 'https://www.theverge.com/news/635316/apple-maps-look-around-photos-apple-intelligence-training', 'urlToImage': 'https://platform.theverge.com/wp-content/uploads/sites/2/chorus/uploads/chorus_asset/file/23973407/Screen_Shot_2022_08_25_at_8.04.30_PM.png?quality=90&strip=all&crop=0%2C6.4223280998251%2C100%2C87.15534380035&w=1200', 'publishedAt': '2025-03-25T15:23:21Z', 'content': 'Starting in March 2025, Apple will use blurred imagery captured during Apple Maps surveys to improve other services.\\r\\nStarting in March 2025, Apple will use blurred imagery captured during Apple Maps… [+1511 chars]'}\n"
     ]
    },
    {
     "name": "stderr",
     "output_type": "stream",
     "text": [
      "Device set to use mps:0\n"
     ]
    },
    {
     "name": "stdout",
     "output_type": "stream",
     "text": [
      "[{'title': 'Apple says it’ll use Apple Maps Look Around photos to train AI', 'description': 'Sometime earlier this month, Apple updated a section of its website that discloses how it collects and uses imagery for Apple Maps’ Look Around feature, which is similar to Google Maps’ Street View, as spotted by 9to5Mac. A newly added paragraph reveals that,…', 'content': 'Starting in March 2025, Apple will use blurred imagery captured during Apple Maps surveys to improve other services.\\r\\nStarting in March 2025, Apple will use blurred imagery captured during Apple Maps… [+1511 chars]', 'res': 'POSITIVE', 'score': 0.5733867883682251}]\n"
     ]
    }
   ],
   "source": [
    "import os\n",
    "import requests\n",
    "from twilio.rest import Client\n",
    "from huggingface_hub import HfFolder, whoami, create_inference_endpoint, login, InferenceClient\n",
    "from transformers import AutoTokenizer\n",
    "from dotenv import load_dotenv\n",
    "from transformers import pipeline,AutoModelForSequenceClassification, AutoTokenizer\n",
    "from transformers.utils import logging\n",
    "from newsapi import NewsApiClient\n",
    "load_dotenv()\n",
    "newsapi = NewsApiClient(api_key='b85c104228a14aeb97d5c29a472c41c4')\n",
    "news_params={\n",
    "        'apiKey':'b85c104228a14aeb97d5c29a472c41c4',\n",
    "        'qInTitle':'apple',\n",
    "    }\n",
    "res=requests.get('https://newsapi.org/v2/everything', params=news_params)\n",
    "stock_data_origin =res.json()['articles'][:1]\n",
    "stock_data = []\n",
    "\n",
    "for x1 in stock_data_origin:\n",
    "    print(x1)\n",
    "    classifier = pipeline('sentiment-analysis')\n",
    "    res= classifier(x1['description'])\n",
    "    stock_data.append({'title':x1['title'], 'description':x1['description'], 'content':x1['content'], 'res':res[0]['label'], 'score':res[0]['score']})\n",
    "print(stock_data)"
   ]
  }
 ],
 "metadata": {
  "kernelspec": {
   "display_name": "Python 3 (ipykernel)",
   "language": "python",
   "name": "python3"
  },
  "language_info": {
   "codemirror_mode": {
    "name": "ipython",
    "version": 3
   },
   "file_extension": ".py",
   "mimetype": "text/x-python",
   "name": "python",
   "nbconvert_exporter": "python",
   "pygments_lexer": "ipython3",
   "version": "3.11.11"
  }
 },
 "nbformat": 4,
 "nbformat_minor": 5
}
