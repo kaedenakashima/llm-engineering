{
 "cells": [
  {
   "cell_type": "markdown",
   "id": "ba0477a5-62e2-4443-b829-e572363c5a04",
   "metadata": {},
   "source": [
    "# Hugging Face Collection 2🤗"
   ]
  },
  {
   "cell_type": "markdown",
   "id": "fed37590-a3a6-4d33-a758-567bc2d41b6b",
   "metadata": {},
   "source": [
    "#### Index\n",
    "\n",
    "6 Tool - Answer with context\n",
    "\n",
    "7 Tool - Answer with keyword context\n",
    "\n",
    "8 Tool - Answer with Rag"
   ]
  },
  {
   "cell_type": "markdown",
   "id": "7c618902-ac21-4ca1-b01e-f516afdca061",
   "metadata": {},
   "source": [
    "# 6 Tool - Answer with context"
   ]
  },
  {
   "cell_type": "code",
   "execution_count": 1,
   "id": "bed79c65-f5a7-4fec-b582-a014e21934d8",
   "metadata": {},
   "outputs": [
    {
     "name": "stderr",
     "output_type": "stream",
     "text": [
      "Device set to use mps:0\n"
     ]
    },
    {
     "name": "stdout",
     "output_type": "stream",
     "text": [
      "DevOps: the integration and automation of the software development and information technology operations\n",
      "API: A set of definitions and protocols for building and integrating application software\n",
      "Sprint planning: a meeting that takes place before the start of a sprint\n"
     ]
    }
   ],
   "source": [
    "# QA from context with default model\n",
    "from transformers import pipeline\n",
    "qa = pipeline('question-answering', model='distilbert-base-cased-distilled-squad', device='mps:0')\n",
    "context='''\n",
    "DevOps:the integration and automation of the software development and information technology operations. DevOps encompasses necessary tasks of software development and can lead to shortening development time and improving the development life cycle.\n",
    "API:A set of definitions and protocols for building and integrating application software, enabling communication between different software applications.\n",
    "Sprint planning:Sprint planning refers to a meeting that takes place before the start of a sprint. The team conducts this meeting to determine the sprint plan and set a sprint goal. The members decide on the number of backlog items in the sprint and sets up a sprint backlog and current sprint.\n",
    "'''\n",
    "print('DevOps:',(qa(question='What is DevOps?', context=context))['answer'])\n",
    "print('API:',(qa(question='What is API?', context=context))['answer'])\n",
    "print('Sprint planning:',(qa(question='What is Sprint planning?', context=context))['answer'])"
   ]
  },
  {
   "cell_type": "markdown",
   "id": "54d1e345-2467-459a-b525-e3602e54b506",
   "metadata": {},
   "source": [
    "# 7 Tool - Answer with keyword context"
   ]
  },
  {
   "cell_type": "code",
   "execution_count": 1,
   "id": "cf2013f6-65e9-463d-8c47-0e0e0d79149e",
   "metadata": {},
   "outputs": [
    {
     "name": "stdout",
     "output_type": "stream",
     "text": [
      "Tool get_ticket_price called for Berlin\n"
     ]
    },
    {
     "data": {
      "text/plain": [
       "'$499'"
      ]
     },
     "execution_count": 1,
     "metadata": {},
     "output_type": "execute_result"
    }
   ],
   "source": [
    "ticket_prices = {\"london\": \"$799\", \"paris\": \"$899\", \"tokyo\": \"$1400\", \"berlin\": \"$499\"}\n",
    "def get_ticket_price(destination_city):\n",
    "    print(f\"Tool get_ticket_price called for {destination_city}\")\n",
    "    city = destination_city.lower()\n",
    "    return ticket_prices.get(city, \"Unknown\")\n",
    "get_ticket_price(\"Berlin\")"
   ]
  },
  {
   "cell_type": "markdown",
   "id": "add12e9f-a0df-4a37-b035-979e32241d7d",
   "metadata": {},
   "source": [
    "# 8 Answer with Rag\n",
    "FAISS gets data from vector format data "
   ]
  },
  {
   "cell_type": "code",
   "execution_count": null,
   "id": "5ed6907c-3e8e-47a1-93d5-c65c9415fb82",
   "metadata": {},
   "outputs": [],
   "source": [
    "!pip install -q langchain sentence-transformers faiss-cpu"
   ]
  },
  {
   "cell_type": "code",
   "execution_count": 12,
   "id": "7878965f-e2e8-4493-9e88-f74062ef0cdb",
   "metadata": {
    "scrolled": true
   },
   "outputs": [
    {
     "name": "stdout",
     "output_type": "stream",
     "text": [
      "# About CoreWeave\n",
      "\n",
      "CoreWeave is a cloud purpose-built for scaling, supporting, and accelerating GenAI. We’re a comprehensive platform and strategic partner designed to tackle today—and tomorrow’s—challenges of deploying AI at scale. We manage the complexities of AI growth to make supercomputing accessible and push the limits of what’s possible.Our teams create modern solutions to support modern technology. Get the premier choice for working with GenAI workloads.\n"
     ]
    }
   ],
   "source": [
    "import os\n",
    "import glob\n",
    "from langchain.document_loaders import DirectoryLoader, TextLoader\n",
    "from langchain.text_splitter import RecursiveCharacterTextSplitter\n",
    "from langchain.embeddings import HuggingFaceEmbeddings\n",
    "from langchain.vectorstores import FAISS\n",
    "load_dotenv()\n",
    "embeddings = HuggingFaceEmbeddings(model_name='sentence-transformers/all-MiniLM-l6-v2')\n",
    "folders = glob.glob('coreweave/md/*')\n",
    "documents = []\n",
    "for x1 in folders:\n",
    "    doc_type = os.path.basename(x1)\n",
    "    loader = DirectoryLoader(x1, glob='**/*.md', loader_cls=TextLoader, loader_kwargs={'encoding': 'utf-8'})\n",
    "    folder_docs = loader.load()\n",
    "    for x2 in folder_docs:\n",
    "        x2.metadata['doc_type'] = doc_type\n",
    "        documents.append(x2)\n",
    "text_splitter = RecursiveCharacterTextSplitter(chunk_size=1000, chunk_overlap=150)\n",
    "chunks = text_splitter.split_documents(documents)\n",
    "# FAISS get related data by vector data\n",
    "db = FAISS.from_documents(chunks, embeddings)\n",
    "searchDocs = db.similarity_search('What is CoreWeave')\n",
    "print(searchDocs[0].page_content)"
   ]
  }
 ],
 "metadata": {
  "kernelspec": {
   "display_name": "Python 3 (ipykernel)",
   "language": "python",
   "name": "python3"
  },
  "language_info": {
   "codemirror_mode": {
    "name": "ipython",
    "version": 3
   },
   "file_extension": ".py",
   "mimetype": "text/x-python",
   "name": "python",
   "nbconvert_exporter": "python",
   "pygments_lexer": "ipython3",
   "version": "3.11.11"
  }
 },
 "nbformat": 4,
 "nbformat_minor": 5
}
