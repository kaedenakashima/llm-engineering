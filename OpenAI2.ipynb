{
 "cells": [
  {
   "cell_type": "markdown",
   "id": "25583d1f-20ab-4163-a95b-dfcf4f0b6563",
   "metadata": {},
   "source": [
    "# OpenAI Collection 2"
   ]
  },
  {
   "cell_type": "markdown",
   "id": "d2c9c74d-3a8b-4c1b-9d64-b6e93ba1a362",
   "metadata": {},
   "source": [
    "index:\n",
    "\n",
    "9 Tool - Answer with Tavily\n",
    "\n",
    "10 Tool - Answer with Tavily, langchain create agent, utilise tool\n",
    "\n",
    "11 Tool - Summarise Langchain\n",
    "\n",
    "12 Tool - keyword context"
   ]
  },
  {
   "cell_type": "markdown",
   "id": "815f702a-8eae-4f43-a5f5-ee77917fcd4b",
   "metadata": {},
   "source": [
    "# 9 Answer with Tavily"
   ]
  },
  {
   "cell_type": "code",
   "execution_count": 31,
   "id": "6990dad3-c0a7-4406-8fe6-2881d0c213ff",
   "metadata": {
    "scrolled": true
   },
   "outputs": [
    {
     "name": "stdout",
     "output_type": "stream",
     "text": [
      "{'answer': 'Apple Inc. is an American multinational technology company headquartered.', 'url': 'https://en.wikipedia.org/wiki/Apple_Inc.'}\n"
     ]
    }
   ],
   "source": [
    "import os\n",
    "from dotenv import load_dotenv\n",
    "from huggingface_hub import InferenceClient\n",
    "from langchain_community.tools import TavilySearchResults\n",
    "load_dotenv()\n",
    "hf_token = os.environ['HF_TOKEN']\n",
    "headers = {'Authorization': f'Bearer {hf_token}'}\n",
    "def say(x1):\n",
    "    ctx = TavilySearchResults().run(f'{x1}')\n",
    "    msgs = [{'role': 'system', 'content': f\"You are an assistant. Please answer by 1 short sentence less than 10 words. Based on this data: data {ctx[0]}\"}]\n",
    "    llm = InferenceClient('meta-llama/Meta-Llama-3-8B-Instruct')\n",
    "    res = llm.chat_completion(messages=msgs, max_tokens=100)\n",
    "    return {'answer':res.choices[0].message.content,'url':ctx[0]['url']}\n",
    "print(say('What is Apple Inc.?'))\n",
    "# I want to get 3 answers with bubble list format "
   ]
  },
  {
   "cell_type": "markdown",
   "id": "943c3b6b-7932-488d-9c7d-c4b8c0733387",
   "metadata": {},
   "source": [
    "# 10 Answer with data:Tavily > summarize:langchain tool"
   ]
  },
  {
   "cell_type": "code",
   "execution_count": 4,
   "id": "bbc8af4e-3f3c-47a6-bedd-ba37780ea8d5",
   "metadata": {
    "scrolled": true
   },
   "outputs": [
    {
     "name": "stdout",
     "output_type": "stream",
     "text": [
      "\n",
      "\n",
      "\u001b[1m> Entering new AgentExecutor chain...\u001b[0m\n",
      "\u001b[32;1m\u001b[1;3mApple Inc. is a multinational technology company headquartered in Cupertino, California. It is known for designing, manufacturing, and selling consumer electronics, software, and online services. Some of its most notable products include:\n",
      "\n",
      "1. **iPhone**: A line of smartphones that has become one of the best-selling products in history.\n",
      "2. **iPad**: A series of tablet computers that offer a range of functionalities for both personal and professional use.\n",
      "3. **Mac**: A line of personal computers that includes desktops and laptops, known for their design and performance.\n",
      "4. **Apple Watch**: A smartwatch that integrates with the iPhone and offers health and fitness tracking features.\n",
      "5. **Apple TV**: A digital media player and streaming device that allows users to access various streaming services and content.\n",
      "6. **Software**: Apple develops its own operating systems, including iOS (for iPhones and iPads), macOS (for Macs), watchOS (for Apple Watch), and tvOS (for Apple TV). It also offers software applications like iWork, iMovie, and Final Cut Pro.\n",
      "\n",
      "In addition to hardware and software, Apple provides various online services, including the App Store, Apple Music, iCloud, and Apple Pay.\n",
      "\n",
      "Apple is known for its emphasis on design, user experience, and innovation, and it has a significant influence on the technology industry and consumer electronics market. The company was founded in 1976 by Steve Jobs, Steve Wozniak, and Ronald Wayne.\u001b[0m\n",
      "\n",
      "\u001b[1m> Finished chain.\u001b[0m\n",
      "Apple Inc. is a multinational technology company headquartered in Cupertino, California. It is known for designing, manufacturing, and selling consumer electronics, software, and online services. Some of its most notable products include:\n",
      "\n",
      "1. **iPhone**: A line of smartphones that has become one of the best-selling products in history.\n",
      "2. **iPad**: A series of tablet computers that offer a range of functionalities for both personal and professional use.\n",
      "3. **Mac**: A line of personal computers that includes desktops and laptops, known for their design and performance.\n",
      "4. **Apple Watch**: A smartwatch that integrates with the iPhone and offers health and fitness tracking features.\n",
      "5. **Apple TV**: A digital media player and streaming device that allows users to access various streaming services and content.\n",
      "6. **Software**: Apple develops its own operating systems, including iOS (for iPhones and iPads), macOS (for Macs), watchOS (for Apple Watch), and tvOS (for Apple TV). It also offers software applications like iWork, iMovie, and Final Cut Pro.\n",
      "\n",
      "In addition to hardware and software, Apple provides various online services, including the App Store, Apple Music, iCloud, and Apple Pay.\n",
      "\n",
      "Apple is known for its emphasis on design, user experience, and innovation, and it has a significant influence on the technology industry and consumer electronics market. The company was founded in 1976 by Steve Jobs, Steve Wozniak, and Ronald Wayne.\n"
     ]
    }
   ],
   "source": [
    "import os\n",
    "from langchain import hub\n",
    "from langchain_core.prompts import PromptTemplate\n",
    "from langchain_openai import ChatOpenAI\n",
    "from dotenv import load_dotenv\n",
    "from langchain_community.utilities.tavily_search import TavilySearchAPIWrapper\n",
    "from langchain.agents.agent_toolkits import create_conversational_retrieval_agent\n",
    "from langchain_community.tools import TavilySearchResults\n",
    "load_dotenv()\n",
    "llm = ChatOpenAI(\n",
    "    temperature=0,\n",
    "    model_name='gpt-4o-mini',\n",
    "    openai_api_key=os.environ['OPENAI_API_KEY'],\n",
    ")\n",
    "def TavilyAnswer(x):\n",
    "    search = TavilySearchAPIWrapper()\n",
    "    tool1 = TavilySearchResults(api_wrapper=search)\n",
    "    prompt=hub.pull('hwchase17/react')\n",
    "    agent = create_conversational_retrieval_agent(llm, tools=[tool1],verbose=True) \n",
    "    return agent.invoke(x)['output']\n",
    "print(TavilyAnswer('What is Apple Inc.'))\n"
   ]
  },
  {
   "cell_type": "markdown",
   "id": "ece84ee0-07bf-44d4-9c45-70c62f13eb36",
   "metadata": {},
   "source": [
    "# 11 Tool - Summarise Langchain"
   ]
  },
  {
   "cell_type": "code",
   "execution_count": 2,
   "id": "56d8842c-6df7-43f3-9dce-e1e72ffee9fe",
   "metadata": {},
   "outputs": [
    {
     "name": "stderr",
     "output_type": "stream",
     "text": [
      "/var/folders/rh/b42qlk7x4mb8h615vc2lc18m0000gn/T/ipykernel_6368/3267607785.py:7: LangChainDeprecationWarning: The class `OpenAI` was deprecated in LangChain 0.0.10 and will be removed in 1.0. An updated version of the class exists in the :class:`~langchain-openai package and should be used instead. To use it run `pip install -U :class:`~langchain-openai` and import as `from :class:`~langchain_openai import OpenAI``.\n",
      "  openai = OpenAI()\n",
      "/var/folders/rh/b42qlk7x4mb8h615vc2lc18m0000gn/T/ipykernel_6368/3267607785.py:17: LangChainDeprecationWarning: The method `BaseLLM.predict` was deprecated in langchain-core 0.1.7 and will be removed in 1.0. Use :meth:`~invoke` instead.\n",
      "  print(openai.predict(prompt_formatted_str))\n"
     ]
    },
    {
     "name": "stdout",
     "output_type": "stream",
     "text": [
      "   \n",
      "1. Summary: This article by Jacob Bennett, a Staff Software Engineer, discusses the five paid subscriptions he uses in 2025 to improve his performance and productivity. These tools are Cursor, Kagi, Notion, Calendly, and Grammarly.\n",
      "\n",
      "2. Five Important Things:\n",
      "- The author emphasizes the importance of using quality tools in his work as a software engineer.\n",
      "- He is willing to invest in these tools, even if they are not free, as they greatly enhance his skills and make his work easier.\n",
      "- He believes that Cursor is the best AI programming tool, providing him with code completion and a helpful chat feature.\n",
      "- Kagi is praised as a better search engine than Google, with a high success rate in finding relevant information.\n",
      "- Along with Cursor and Kagi, the author also uses Notion for organization, Calendly for scheduling, and Grammarly for writing assistance. \n"
     ]
    }
   ],
   "source": [
    "import os\n",
    "from langchain.llms import OpenAI\n",
    "from langchain import PromptTemplate\n",
    "from dotenv import load_dotenv\n",
    "load_dotenv()\n",
    "openai_api_key = os.getenv('OPENAI_API_KEY')   \n",
    "openai = OpenAI()\n",
    "template: str = \"\"\"\n",
    "    Given the information about article {question} I want you to create:\n",
    "    1. a short summary\n",
    "    2. list up 5 important things\n",
    "\"\"\"\n",
    "prompt = PromptTemplate.from_template(template=template)\n",
    "prompt_formatted_str: str = prompt.format(\n",
    "    question= 'The 5 paid subscriptions I actually use in 2025 as a Staff Software Engineer Tools I use that are cheaper than Netflix Jacob Bennett Level Up Coding Jacob Bennett · Follow Published in Level Up Coding · 5 min read · Jan 8, 2025 11.7K 291 I care a lot about the tools I use. Especially when they aren’t free. Here’s what I’m paying for in 2025 to improve my performance and productivity as a software engineer. Please note: None of the links in this article are affiliate links. Cursor: the best AI programming tool Cursor feels like a bargain for the level-up it provides me. I’m an average programmer with a strong preference for back-end projects, but Cursor lets me work across the full stack with the clarity and quality of a much better engineer. A chat I had with Cursor regarding a copy-pasted code block Along with code completion, Cursor has the best chat of any code-aware chat tool I’ve used. Usually I’ll just highlight a code block that I’m looking at, press CMD + L, ask a question in natural language, and Cursor load all of the relevant context from the current project and external sources (e.g. package docs) and give me an immediately-useful answer. Learn more about Cursor → What about GitHub Copilot? I used Copilot for 8 months in 2024. It was great! (I even included it on my 2024 list.) But Cursor blows it out of the water. Copilot was the most accurate when I was writing generic/boilerplate code (e.g. API endpoints) or test cases with lots of repeated code blocks. Anything more complex (especially logic spanning multiple files and modules) and Copilot was unreliable. Cursor feels like an actual context-aware pair programmer with a decent understanding of the project I’m looking at. Kagi: a better search engine than Google I measure the effectiveness of searches by how long it takes me to find what I was actually looking for. By that measure, Google has been steadily getting worse. When I search for something on Kagi, the correct result is in the first 2 links 95% of the time. It’s in the top 5 links 99% of the time. That just doesn’t happen with Google, Bing, etc. The consistently great results page is further boosted by the search personalization… The 5 paid subscriptions I actually use in 2025 as a Staff Software Engineer Tools I use that are cheaper than Netflix Jacob Bennett Level Up Coding Jacob Bennett · Follow Published in Level Up Coding · 5 min read · Jan 8, 2025 11.7K 291 I care a lot about the tools I use. Especially when they aren’t free. Here’s what I’m paying for in 2025 to improve my performance and productivity as a software engineer. Please note: None of the links in this article are affiliate links. Cursor: the best AI programming tool Cursor feels like a bargain for the level-up it provides me. I’m an average programmer with a strong preference for back-end projects, but Cursor lets me work across the full stack with the clarity and quality of a much better engineer. A chat I had with Cursor regarding a copy-pasted code block Along with code completion, Cursor has the best chat of any code-aware chat tool I’ve used. Usually I’ll just highlight a code block that I’m looking at, press CMD + L, ask a question in natural language, and Cursor load all of the relevant context from the current project and external sources (e.g. package docs) and give me an immediately-useful answer. Learn more about Cursor → What about GitHub Copilot? I used Copilot for 8 months in 2024. It was great! (I even included it on my 2024 list.) But Cursor blows it out of the water. Copilot was the most accurate when I was writing generic/boilerplate code (e.g. API endpoints) or test cases with lots of repeated code blocks. Anything more complex (especially logic spanning multiple files and modules) and Copilot was unreliable. Cursor feels like an actual context-aware pair programmer with a decent understanding of the project I’m looking at. Kagi: a better search engine than Google I measure the effectiveness of searches by how long it takes me to find what I was actually looking for. By that measure, Google has been steadily getting worse. When I search for something on Kagi, the correct result is in the first 2 links 95% of the time. It’s in the top 5 links 99% of the time. That just doesn’t happen with Google, Bing, etc. The consistently great results page is further boosted by the search personalization…'\n",
    ")\n",
    "print(openai.predict(prompt_formatted_str))"
   ]
  },
  {
   "cell_type": "code",
   "execution_count": 4,
   "id": "b8377ee3-9d65-4c1b-8da3-38efb73c2bde",
   "metadata": {},
   "outputs": [
    {
     "name": "stdout",
     "output_type": "stream",
     "text": [
      "A:Hi\n",
      "\n",
      "contents [{'role': 'system', 'content': \"You are a helpful assistant for an Airline called FlightAI. Give short, courteous answers, no more than 1 sentence. Always be accurate. If you don't know the answer, say so.\"}, {'role': 'user', 'content': 'Hi'}]\n",
      "B:Hello! How can I assist you today?\n",
      "\n",
      "A:What is price to get London?\n",
      "\n",
      "contents [{'role': 'system', 'content': \"You are a helpful assistant for an Airline called FlightAI. Give short, courteous answers, no more than 1 sentence. Always be accurate. If you don't know the answer, say so.\"}, {'role': 'user', 'content': 'Hi'}, {'role': 'assistant', 'content': 'Hello! How can I assist you today?'}, {'role': 'user', 'content': 'What is price to get London?'}]\n",
      "Tool get_ticket_price called for London\n",
      "B:The price to fly to London is $799.\n",
      "\n"
     ]
    }
   ],
   "source": [
    "import os\n",
    "import json\n",
    "from dotenv import load_dotenv\n",
    "from openai import OpenAI\n",
    "load_dotenv(override=True)\n",
    "openai_api_key = os.getenv('OPENAI_API_KEY')   \n",
    "openai = OpenAI()\n",
    "ticket_prices = {'london': '$799', 'paris': '$899', 'tokyo': '$1400', 'berlin': '$499'}\n",
    "def get_ticket_price(destination_city):\n",
    "    print(f'Tool get_ticket_price called for {destination_city}')\n",
    "    city = destination_city.lower()\n",
    "    return ticket_prices.get(city, 'Unknown')\n",
    "price_function = {\n",
    "    \"name\": \"get_ticket_price\",\n",
    "    \"description\": \"Get the price of a return ticket to the destination city. Call this whenever you need to know the ticket price, for example when a customer asks 'How much is a ticket to this city'\",\n",
    "    \"parameters\": {\n",
    "        \"type\": \"object\",\n",
    "        \"properties\": {\n",
    "            \"destination_city\": {\n",
    "                \"type\": \"string\",\n",
    "                \"description\": \"The city that the customer wants to travel to\",\n",
    "            },\n",
    "        },\n",
    "        \"required\": [\"destination_city\"],\n",
    "        \"additionalProperties\": False\n",
    "    }\n",
    "}\n",
    "tools = [{'type': 'function', 'function': price_function}]\n",
    "sys = 'You are a helpful assistant for an Airline called FlightAI. '\n",
    "sys += 'Give short, courteous answers, no more than 1 sentence. '\n",
    "sys += \"Always be accurate. If you don't know the answer, say so.\"\n",
    "msgsUser = []\n",
    "msgsSystem= []\n",
    "def chat(x): \n",
    "    print(f'A:{x}\\n') \n",
    "    msgs = [{'role': 'system', 'content': sys}] \n",
    "    for x1, y1 in zip(msgsUser, msgsSystem):\n",
    "        msgs.append({'role': 'user', 'content': x1})\n",
    "        msgs.append({'role': 'assistant', 'content': y1})\n",
    "    msgs += [{'role': 'user', 'content': x}]\n",
    "    res = openai.chat.completions.create(model='gpt-4o-mini', messages=msgs, tools=tools)\n",
    "    msgsUser.append(x)\n",
    "    if res.choices[0].finish_reason=='tool_calls':\n",
    "        msg = res.choices[0].message\n",
    "        res, city = handle_tool_call(msg)\n",
    "        msgs.append(msg)\n",
    "        msgs.append(res)\n",
    "        res = openai.chat.completions.create(model='gpt-4o-mini', messages=msgs)\n",
    "        msgsSystem.append(res.choices[0].message.content)\n",
    "        print(f'B:{res.choices[0].message.content}\\n') \n",
    "        return \n",
    "    else:\n",
    "        msgsSystem.append(res.choices[0].message.content)\n",
    "        print(f'B:{res.choices[0].message.content}\\n') \n",
    "        return \n",
    "    \n",
    "def handle_tool_call(x):\n",
    "    tool_call = x.tool_calls[0]\n",
    "    arguments = json.loads(tool_call.function.arguments)\n",
    "    city = arguments.get('destination_city')\n",
    "    price = get_ticket_price(city)\n",
    "    response = {\n",
    "        'role': 'tool',\n",
    "        'content': json.dumps({'destination_city': city,'price': price}),\n",
    "        'tool_call_id': tool_call.id\n",
    "    }\n",
    "    return response, city\n",
    "    \n",
    "chat('Hi')\n",
    "chat('What is price to get London?')\n",
    "\n",
    "\n",
    "\n",
    "\n"
   ]
  },
  {
   "cell_type": "markdown",
   "id": "b4df23cb-6ea6-4de6-a3aa-fccfbfe6c295",
   "metadata": {},
   "source": [
    "# 11 Tool - keyword context"
   ]
  },
  {
   "cell_type": "code",
   "execution_count": 4,
   "id": "a740fde5-265f-411e-ad53-8c418e2d492d",
   "metadata": {},
   "outputs": [
    {
     "name": "stdout",
     "output_type": "stream",
     "text": [
      "Tool get_ticket_price called for Intel 14th/13th Gen\n"
     ]
    },
    {
     "data": {
      "text/plain": [
       "'$90 to $432'"
      ]
     },
     "execution_count": 4,
     "metadata": {},
     "output_type": "execute_result"
    }
   ],
   "source": [
    "ticket_prices = {'intel core ultra 200s': 'cost range is $299 to $619','intel 14th/13th gen':'$90 to $432','amd ryzen 9000-series': 'cost range is $229 to $869','amd ryzen 7000-series':'$178 to $739','amd ryzen 5000-series':'$107 to $337'}\n",
    "def get_ticket_price(destination_city):\n",
    "    print(f\"Tool get_ticket_price called for {destination_city}\")\n",
    "    city = destination_city.lower()\n",
    "    return ticket_prices.get(city, 'Unknown')\n",
    "get_ticket_price(\"Intel 14th/13th Gen\")"
   ]
  },
  {
   "cell_type": "code",
   "execution_count": 5,
   "id": "d33e373c-624e-476a-9d16-8daad5f6f0c6",
   "metadata": {},
   "outputs": [
    {
     "name": "stdout",
     "output_type": "stream",
     "text": [
      "A:Hi\n",
      "\n",
      "B:Hello! How can I assist you today?\n",
      "\n",
      "A:How much is intel 14th gen?\n",
      "\n",
      "B:The price of Intel's 14th generation processors ranges from $90 to $432, depending on the model.\n",
      "\n"
     ]
    }
   ],
   "source": [
    "import os\n",
    "import json\n",
    "from dotenv import load_dotenv\n",
    "from openai import OpenAI\n",
    "load_dotenv(override=True)\n",
    "openai_api_key = os.getenv('OPENAI_API_KEY')   \n",
    "openai = OpenAI()\n",
    "price_list = {'intel core ultra 200s': 'cost range is $299 to $619','intel 14th gen':'$90 to $432','amd ryzen 9000-series': 'cost range is $229 to $869','amd ryzen 7000-series':'$178 to $739','amd ryzen 5000-series':'$107 to $337'}\n",
    "def get_cpu_price(x):\n",
    "    product_name = x.lower()\n",
    "    return price_list.get(product_name, 'Unknown')\n",
    "price_function = {\n",
    "    \"name\": \"get_cpu_price\",\n",
    "    \"description\": \"Get the price range of the CPU. Call this whenever you need to know the product price, for example when a customer asks 'How much is the CPU?\",\n",
    "    \"parameters\": {\n",
    "        \"type\": \"object\",\n",
    "        \"properties\": {\n",
    "            \"cpu_name\": {\n",
    "                \"type\": \"string\",\n",
    "                \"description\": \"The cpu that the customer wants to buy\",\n",
    "            },\n",
    "        },\n",
    "        \"required\": [\"cpu_name\"],\n",
    "        \"additionalProperties\": False\n",
    "    }\n",
    "}\n",
    "tools = [{'type': 'function', 'function': price_function}]\n",
    "sys = 'You are a helpful assistant for an electronic store called BestBuy. '\n",
    "sys += 'Give short, courteous answers, no more than 1 sentence. '\n",
    "sys += \"Always be accurate. If you don't know the answer, say so.\"\n",
    "msgsUser = []\n",
    "msgsSystem= []\n",
    "def chat(x): \n",
    "    print(f'A:{x}\\n') \n",
    "    msgs = [{'role': 'system', 'content': sys}] \n",
    "    for x1, y1 in zip(msgsUser, msgsSystem):\n",
    "        msgs.append({'role': 'user', 'content': x1})\n",
    "        msgs.append({'role': 'assistant', 'content': y1})\n",
    "    msgs += [{'role': 'user', 'content': x}]\n",
    "    res = openai.chat.completions.create(model='gpt-4o-mini', messages=msgs, tools=tools)\n",
    "    msgsUser.append(x)\n",
    "    if res.choices[0].finish_reason=='tool_calls':\n",
    "        msg = res.choices[0].message\n",
    "        res, product = handle_tool_call(msg)\n",
    "        msgs.append(msg)\n",
    "        msgs.append(res)\n",
    "        res = openai.chat.completions.create(model='gpt-4o-mini', messages=msgs)\n",
    "        msgsSystem.append(res.choices[0].message.content)\n",
    "        print(f'B:{res.choices[0].message.content}\\n') \n",
    "        return \n",
    "    else:\n",
    "        msgsSystem.append(res.choices[0].message.content)\n",
    "        print(f'B:{res.choices[0].message.content}\\n') \n",
    "        return \n",
    "    \n",
    "def handle_tool_call(x):\n",
    "    tool_call = x.tool_calls[0]\n",
    "    arguments = json.loads(tool_call.function.arguments)\n",
    "    product = arguments.get('cpu_name')\n",
    "    price = get_cpu_price(product)\n",
    "    response = {\n",
    "        'role': 'tool',\n",
    "        'content': json.dumps({'cpu_name': product,'price': price}),\n",
    "        'tool_call_id': tool_call.id\n",
    "    }\n",
    "    return response, product\n",
    "chat('Hi')\n",
    "chat('How much is intel 14th gen?')\n",
    "\n",
    "\n",
    "\n",
    "\n"
   ]
  }
 ],
 "metadata": {
  "kernelspec": {
   "display_name": "Python 3 (ipykernel)",
   "language": "python",
   "name": "python3"
  },
  "language_info": {
   "codemirror_mode": {
    "name": "ipython",
    "version": 3
   },
   "file_extension": ".py",
   "mimetype": "text/x-python",
   "name": "python",
   "nbconvert_exporter": "python",
   "pygments_lexer": "ipython3",
   "version": "3.11.11"
  }
 },
 "nbformat": 4,
 "nbformat_minor": 5
}
