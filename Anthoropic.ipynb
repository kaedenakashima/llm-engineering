{
 "cells": [
  {
   "cell_type": "markdown",
   "id": "1d11a053-e6e3-4e39-a0be-7ea1714904f4",
   "metadata": {},
   "source": [
    "# Claude Collection"
   ]
  },
  {
   "cell_type": "code",
   "execution_count": null,
   "id": "7b18fd9c-5baf-4bc3-87ab-cd3d4dfa6a51",
   "metadata": {},
   "outputs": [],
   "source": [
    "#### API Menu\n",
    "\n",
    "#### 1 claude.messages.create\n",
    "#### item:\n",
    "    model='claude-3-haiku-20240307'\n",
    "           #'claude-3-5-sonnet-20240620'\n",
    "    system='system setting'\n",
    "\n",
    "    messages=[\n",
    "        {'role': 'user', 'content': x},\n",
    "    ]\n",
    "    \n",
    "    max_tokens=200\n",
    "\n",
    "    temperature=.7\n",
    "#### return:\n",
    "    res.content[0].text\n",
    "#### 2 claude.messages.stream\n",
    "#### item:\n",
    "    model='claude-3-haiku-20240307'\n",
    "\n",
    "    system=''''\n",
    "    You are an assistant that reimplements Python code in high performance C++ for an M3 Mac. \n",
    "    Respond only with C++ code; use comments sparingly and do not provide any explanation other than occasional comments. \n",
    "    The C++ response needs to produce an identical output in the fastest possible time.\n",
    "    '''\n",
    "    \n",
    "    messages=[{\n",
    "        'role': 'user', \n",
    "        'content': '''\n",
    "            Rewrite this Python code in C++ with the fastest possible implementation that produces identical output in the least time. \n",
    "            Respond only with C++ code; do not explain your work other than a few comments. \n",
    "            Pay attention to number types to ensure no int overflows. Remember to #include all necessary C++ packages such as iomanip.\n",
    "            + code\n",
    "        '''\n",
    "    }]\n",
    "\n",
    "    max_tokens=200\n",
    "\n",
    "#### return:\n",
    "    res = ''\n",
    "    with llm as stream:\n",
    "        for y in stream.text_stream:\n",
    "            res += y\n",
    "\n",
    "#### 2 hf.text_generation\n",
    "#### hf setting:\n",
    "    provider='hf-inference'\n",
    "\tapi_key='hf+token'\n",
    "#### item:\n",
    "\tmodel='google/gemma-2-2b-it'\n",
    "\tinputs='Can you please let us know more details about your '\n",
    "\tprovider='hf-inference'\n",
    "#### return:"
   ]
  },
  {
   "cell_type": "markdown",
   "id": "a71ec201-6b77-49b5-9e68-1dfc5451fba2",
   "metadata": {},
   "source": [
    "# 1 Answer with set system and model"
   ]
  },
  {
   "cell_type": "code",
   "execution_count": 5,
   "id": "f142edbe-f6e3-4bd5-b161-c6058f57f54a",
   "metadata": {},
   "outputs": [
    {
     "name": "stdout",
     "output_type": "stream",
     "text": [
      "I'm doing well, thank you.\n"
     ]
    }
   ],
   "source": [
    "import os\n",
    "import anthropic\n",
    "from dotenv import load_dotenv\n",
    "load_dotenv()\n",
    "claude = anthropic.Anthropic()\n",
    "def say(x):\n",
    "    res = claude.messages.create(\n",
    "        model='claude-3-haiku-20240307', # it's cheapest. high quality: claude-3-5-sonnet-latest\n",
    "        max_tokens=200,\n",
    "        temperature=0.7,\n",
    "        system='Please answer one short and simple sentence.',\n",
    "        messages=[\n",
    "            {'role': 'user', 'content': x},\n",
    "        ],\n",
    "    )\n",
    "    return res.content[0].text\n",
    "print(say('Hello. How are you doing?'))"
   ]
  },
  {
   "cell_type": "markdown",
   "id": "9ff29334-3fd3-4e1c-9643-0b9257f435af",
   "metadata": {},
   "source": [
    "# 2 Conversations"
   ]
  },
  {
   "cell_type": "code",
   "execution_count": 13,
   "id": "8856c2eb-fb6b-4996-bed9-bf7e7ac13dc4",
   "metadata": {},
   "outputs": [
    {
     "name": "stdout",
     "output_type": "stream",
     "text": [
      "A:It's nice to meet you! How has your day been going so far?\n",
      "\n",
      "B:My day has been going well, thanks for asking! How about you, how has your day been?\n",
      "\n",
      "A:My day has been good, thanks for asking! I've enjoyed our conversation so far.\n",
      "\n",
      "B:That's great to hear! I've enjoyed our conversation as well. Is there anything in particular you'd like to chat about?\n",
      "\n",
      "A:I'm always happy to discuss a variety of topics! What kind of things are you interested in? I enjoy intellectual discussions on subjects like science, philosophy, arts and culture.\n",
      "\n",
      "B:I'm always happy to discuss a wide range of topics! Some of my favorite areas are science, philosophy, and the arts. I find intellectual discussions on these subjects to be really fascinating. What in particular interests you the most?\n",
      "\n",
      "A:I find science and philosophy to be especially interesting topics. I'm always eager to learn more about the latest discoveries and theories in fields like physics, biology, and cognitive science. And I'm fascinated by big questions about the nature of reality, knowledge, and the human condition. What are some of your favorite ideas or thinkers in those areas?\n",
      "\n",
      "B:That's great, I really enjoy discussing science and philosophy as well. In physics, I find the latest developments in quantum mechanics and theories of the origins of the universe to be fascinating. Philosophers like Plato, Nietzsche, and Sartre have also had a big influence on my thinking about the human condition and the nature of existence. Do you have any particular areas within those fields that you're especially passionate about?\n",
      "\n",
      "A:That's really interesting, I share your fascination with quantum mechanics and the big questions about the origins of the universe. In philosophy, I find the existentialist thinkers like Sartre and Camus to be especially compelling - their exploration of the human condition and the search for meaning in an absurd world really resonates with me. I'm also really intrigued by advancements in fields like neuroscience and cognitive science, and how they're shedding new light on the nature of consciousness and the workings of the mind. Those are some of the areas I'm most passionate about delving into. What about you - are there any particular topics or ideas within science and philosophy that you're especially drawn to?\n",
      "\n",
      "B:That's really fascinating, I'm so glad we share a passion for those areas of science and philosophy. The questions surrounding consciousness, free will, and the nature of reality that are being explored in fields like neuroscience and quantum physics are endlessly intriguing to me. And the existentialist thinkers' grappling with the human condition and the search for meaning really strikes a chord as well. I could discuss these topics for hours! Do you have any favorite books or thinkers within those realms that you'd recommend?\n",
      "\n"
     ]
    }
   ],
   "source": [
    "import os\n",
    "from dotenv import load_dotenv\n",
    "import anthropic\n",
    "load_dotenv()\n",
    "claude = anthropic.Anthropic()\n",
    "msgsA = ['Hi there']\n",
    "msgsB = ['Hi']\n",
    "def sayA():\n",
    "    msg = []\n",
    "    for x, y in zip(msgsA, msgsB):\n",
    "        msg.append({'role': 'assistant', 'content': x})\n",
    "        msg.append({'role': 'user', 'content': y})\n",
    "    res = claude.messages.create(\n",
    "        model= 'claude-3-haiku-20240307',\n",
    "        system='You are not an assistant. Please treat other one like your friend. Also, please answer with short sentence.',\n",
    "        messages=msg,\n",
    "        max_tokens=500\n",
    "    )\n",
    "    return res.content[0].text\n",
    "def sayB():\n",
    "    msg = []\n",
    "    for x, y in zip(msgsA, msgsB):\n",
    "        msg.append({'role': 'user', 'content': x})\n",
    "        msg.append({'role': 'assistant', 'content': y})\n",
    "    msg.append({'role': 'user', 'content': msgsA[-1]})\n",
    "    res = claude.messages.create(\n",
    "        model= 'claude-3-haiku-20240307',\n",
    "        system='You are not an assistant. Please treat other one like your friend. Also, please answer with short sentence.',\n",
    "        messages=msg,\n",
    "        max_tokens=500\n",
    "    )\n",
    "    return res.content[0].text\n",
    "\n",
    "for i in range(5):\n",
    "    a_next = sayA()\n",
    "    print(f\"A:{a_next}\\n\")\n",
    "    msgsA.append(a_next)\n",
    "    b_next = sayB()\n",
    "    print(f\"B:{b_next}\\n\")\n",
    "    msgsB.append(b_next)\n",
    "    "
   ]
  },
  {
   "cell_type": "markdown",
   "id": "1b6b0f64-3eb9-46f5-adb4-3eb0a5fd4724",
   "metadata": {},
   "source": [
    "# 3 Generate Code"
   ]
  },
  {
   "cell_type": "code",
   "execution_count": 21,
   "id": "4c3f5243-12b4-4d92-8106-3b5c44f9fd37",
   "metadata": {},
   "outputs": [
    {
     "name": "stdout",
     "output_type": "stream",
     "text": [
      "\u001b[1mgenerated_cpp.cpp:15:57: \u001b[0m\u001b[0;1;31merror: \u001b[0m\u001b[1mno member named 'setprecision' in namespace 'std'\u001b[0m\n",
      "    std::cout << \"Running time: \" << std::fixed << std::setprecision(6) << std::chrono::duration<double>(end_time - start_time).count() << \"s\" << std::endl;\n",
      "\u001b[0;1;32m                                                   ~~~~~^\n",
      "1 error generated.\n",
      "hi\n",
      "Result: \n",
      "8.542e-06\n"
     ]
    }
   ],
   "source": [
    "!clang++ -O3 -std=c++17 -march=armv8.3-a -o generated_cpp generated_cpp.cpp\n",
    "!./generated_cpp"
   ]
  },
  {
   "cell_type": "code",
   "execution_count": 124,
   "id": "9dae8786-3325-4d89-9ecb-d3d09779bef2",
   "metadata": {},
   "outputs": [],
   "source": [
    "import os\n",
    "import io\n",
    "import sys\n",
    "import anthropic\n",
    "import time\n",
    "import subprocess\n",
    "from dotenv import load_dotenv\n",
    "load_dotenv()\n",
    "claude = anthropic.Anthropic()\n",
    "def sys_settting():\n",
    "    x = 'You are an assistant that reimplements Python code in high performance C++ for an M1 Mac. '\n",
    "    x += 'Respond only with C++ code; use comments sparingly and do not provide any explanation other than occasional comments. '\n",
    "    x += 'The C++ response needs to produce an identical output in the fastest possible time.'\n",
    "    return x\n",
    "def usr_settting_and_code(x1):\n",
    "    x2 = 'Rewrite this Python code in C++ with the fastest possible implementation that produces identical output in the least time. '\n",
    "    x2 += 'Respond only with C++ code; do not explain your work other than a few comments. '\n",
    "    x2 += 'Pay attention to number types to ensure no int overflows. Remember to #include all necessary C++ packages such as iomanip.\\n\\n'\n",
    "    x2 += x1\n",
    "    return x2\n",
    "def write_output(x):\n",
    "    code = x.replace('```cpp','').replace('```','')\n",
    "    with open('code.cpp', 'w') as f:\n",
    "        f.write(code)\n",
    "def py_to_cpp_claude(x):\n",
    "    result = claude.messages.stream(\n",
    "        model='claude-3-haiku-20240307',\n",
    "        max_tokens=2000,\n",
    "        system=sys_settting(),\n",
    "        messages=[{'role': 'user', 'content': usr_settting_and_code(x)}],\n",
    "    )\n",
    "    reply = ''\n",
    "    with result as stream:\n",
    "        for text in stream.text_stream:\n",
    "            reply += text\n",
    "            print(text, end=\"\", flush=True)\n",
    "    write_output(reply)\n",
    "# def py_to_cpp_claude(x):\n",
    "#     llm = claude.messages.stream(\n",
    "#         model='claude-3-haiku-20240307',\n",
    "#         max_tokens=200,\n",
    "#         system=sys_settting(),\n",
    "#         messages=[{'role': 'user', 'content': usr_settting_and_code(x)}],\n",
    "#     )\n",
    "#     x3 = ''\n",
    "#     with llm as stream:\n",
    "#         for y in stream.text_stream:\n",
    "#             x3 += y\n",
    "#             yield reply.replace('```cpp\\n','').replace('```','')\n",
    "#     write_output(x3)\n",
    "#     return x3\n",
    "# def py_to_cpp_claude(x):\n",
    "#     result = claude.messages.stream(\n",
    "#         model='claude-3-haiku-20240307',\n",
    "#         max_tokens=2000,\n",
    "#         system=system_message,\n",
    "#         messages=[{'role': 'user', 'content': usr_settting_and_code(x)}],\n",
    "#     )\n",
    "#     reply = ''\n",
    "#     with result as stream:\n",
    "#         for text in stream.text_stream:\n",
    "#             reply += text\n",
    "#             print(text, end='', flush=True)\n",
    "#     write_output(reply)\n",
    "# def py_to_cpp_claude(x):\n",
    "#     result = claude.messages.stream(\n",
    "#         model='claude-3-haiku-20240307',\n",
    "#         max_tokens=2000,\n",
    "#         system=system_message,\n",
    "#         messages=[{\"role\": \"user\", \"content\": usr_settting_and_code(x)}],\n",
    "#     )\n",
    "#     reply = \"\"\n",
    "#     with result as stream:\n",
    "#         for text in stream.text_stream:\n",
    "#             reply += text\n",
    "#             yield reply.replace('```cpp\\n','').replace('```','')\n",
    "def run_cpp():\n",
    "        try:\n",
    "            run1 = subprocess.run(['clang++', '-Ofast', '-std=c++17', '-march=armv8.5-a', '-mtune=apple-m1', '-mcpu=apple-m1', '-o', 'code', 'code.cpp'], check=True, text=True, capture_output=True)\n",
    "            run2 = subprocess.run(['./code'], check=True, text=True, capture_output=True)\n",
    "            return run2.stdout\n",
    "        except subprocess.CalledProcessError as e:\n",
    "            return f'An error occurred:\\n{e.stderr}'"
   ]
  },
  {
   "cell_type": "code",
   "execution_count": 132,
   "id": "7134f2b7-b8eb-4e44-8679-1adc009f9c70",
   "metadata": {},
   "outputs": [
    {
     "name": "stdout",
     "output_type": "stream",
     "text": [
      "------------------\n",
      "\n",
      "import time\n",
      "def say():\n",
      "    return 'mongo'\n",
      "start_time_in_sec = time.time()\n",
      "res= say()\n",
      "end_time_in_sec = time.time()\n",
      "# print(f'Result: {result:.12f}')\n",
      "print(f'Execution Time: {(end_time_in_sec-start_time_in_sec):.6f} seconds')\n",
      "print(res, end_time_in_sec-start_time_in_sec)\n",
      "\n",
      "------------------\n",
      "Execution Time: 0.000001 seconds\n",
      "mongo 9.5367431640625e-07\n",
      "------------------\n",
      "#include <iostream>\n",
      "time>ude <c\n",
      "omanip>e <i\n",
      "\n",
      " {d::string say()\n",
      "    return \"mongo\";\n",
      "}\n",
      "\n",
      "int main() {\n",
      "in_sec = static_cast<double>(std::clock()) / CLOCKS_PER_SEC;\n",
      " = say();string res\n",
      "sec = static_cast<double>(std::clock()) / CLOCKS_PER_SEC;\n",
      "Execution Time: \" << std::fixed << std::setprecision(6) << (end_time_in_sec - start_time_in_sec) << \" seconds\" << std::endl;\n",
      " \" << end_time_in_sec - start_time_in_sec << std::endl;\n",
      "    return 0;\n",
      "None\n",
      "------------------\n",
      "Execution Time: 0.000004 seconds\n",
      "mongo 0.000004\n",
      "\n"
     ]
    }
   ],
   "source": [
    "code2 = \"\"\"\n",
    "import time\n",
    "def speak():\n",
    "    return 'kiwi'\n",
    "start_time = time.time()\n",
    "res = speak()\n",
    "print('Result:', res)\n",
    "\"\"\"\n",
    "code3 =\"\"\"\n",
    "from datetime import datetime\n",
    "def count(x,y):\n",
    "    for n in range(x,y):\n",
    "        print(n)\n",
    "start_time = datetime.now()\n",
    "count(1,11)\n",
    "end_time = datetime.now()\n",
    "\"\"\"\n",
    "code4 = \"\"\"\n",
    "import time\n",
    "def say():\n",
    "    return 'mongo'\n",
    "start_time_in_sec = time.time()\n",
    "res= say()\n",
    "end_time_in_sec = time.time()\n",
    "# print(f'Result: {result:.12f}')\n",
    "print(f'Execution Time: {(end_time_in_sec-start_time_in_sec):.6f} seconds')\n",
    "print(res, end_time_in_sec-start_time_in_sec)\n",
    "\"\"\"\n",
    "print('------------------')\n",
    "print(code4)\n",
    "print('------------------')\n",
    "exec(code4)\n",
    "# cpp show and run code(claude)\n",
    "print('------------------')\n",
    "print(py_to_cpp_claude(code4))\n",
    "print('------------------')\n",
    "print(run_cpp())"
   ]
  },
  {
   "cell_type": "code",
   "execution_count": 101,
   "id": "11082f07-a87f-4563-af88-e713168b4d0b",
   "metadata": {},
   "outputs": [
    {
     "data": {
      "text/plain": [
       "'Result: apple\\nExecution Time: 0 microseconds\\n'"
      ]
     },
     "execution_count": 101,
     "metadata": {},
     "output_type": "execute_result"
    }
   ],
   "source": [
    "cpp='''\n",
    "#include <iostream>\n",
    "#include <chrono>\n",
    "\n",
    "std::string echo() {\n",
    "    return \"apple\";\n",
    "}\n",
    "\n",
    "int main() {\n",
    "    auto start_time = std::chrono::high_resolution_clock::now();\n",
    "    auto result = echo();\n",
    "    auto end_time = std::chrono::high_resolution_clock::now();\n",
    "\n",
    "    std::cout << \"Result: \" << result << std::endl;\n",
    "    auto duration = std::chrono::duration_cast<std::chrono::microseconds>(end_time - start_time).count();\n",
    "    std::cout << \"Execution Time: \" << duration << \" microseconds\" << std::endl;\n",
    "\n",
    "    return 0;\n",
    "}\n",
    "'''\n",
    "def write_output(x):\n",
    "    code = x.replace('```cpp','').replace('```','')\n",
    "    with open('code.cpp', 'w') as f:\n",
    "        f.write(code)\n",
    "def run_cpp():\n",
    "        try:\n",
    "            run1 = subprocess.run(['clang++', '-Ofast', '-std=c++17', '-march=armv8.5-a', '-mtune=apple-m1', '-mcpu=apple-m1', '-o', 'code', 'code.cpp'], check=True, text=True, capture_output=True)\n",
    "            run2 = subprocess.run(['./code'], check=True, text=True, capture_output=True)\n",
    "            return run2.stdout\n",
    "        except subprocess.CalledProcessError as e:\n",
    "            return f'An error occurred:\\n{e.stderr}'\n",
    "write_output(cpp)\n",
    "run_cpp()"
   ]
  },
  {
   "cell_type": "code",
   "execution_count": 19,
   "id": "19e2ea54-e986-4913-8e65-b649bd1d3dd5",
   "metadata": {},
   "outputs": [
    {
     "name": "stdout",
     "output_type": "stream",
     "text": [
      "Result: hi\n",
      "Running time: 0.000044s\n"
     ]
    }
   ],
   "source": [
    "import time\n",
    "def speak():\n",
    "    return 'hi'\n",
    "start_time = time.time()\n",
    "res = speak()\n",
    "end_time = time.time()\n",
    "print('Result:', res)\n",
    "print(f'Running time: {(end_time-start_time):.6f}s')\n",
    "# print(f\"Execution Time: {(end_time - start_time):.6f} seconds\")"
   ]
  },
  {
   "cell_type": "code",
   "execution_count": 22,
   "id": "e265c5fa-d0eb-48fe-90f2-0691d99fbabc",
   "metadata": {},
   "outputs": [
    {
     "name": "stdout",
     "output_type": "stream",
     "text": [
      "Execute C++: An error occurred:\n",
      "generated_cpp.cpp:5:12: warning: missing terminating '\"' character [-Winvalid-pp-token]\n",
      "    printf(\"Hello World\n",
      "           ^\n",
      "generated_cpp.cpp:5:12: error: expected expression\n",
      "generated_cpp.cpp:6:1: warning: missing terminating '\"' character [-Winvalid-pp-token]\n",
      "\");\n",
      "^\n",
      "generated_cpp.cpp:8:2: error: expected '}'\n",
      "}\n",
      " ^\n",
      "generated_cpp.cpp:4:12: note: to match this '{'\n",
      "int main() {\n",
      "           ^\n",
      "2 warnings and 2 errors generated.\n",
      "\n"
     ]
    }
   ],
   "source": [
    "cppcode='''\n",
    "#include <stdio.h>\n",
    "\n",
    "int main() {\n",
    "    printf(\"Hello World\\n\");\n",
    "    return 0;\n",
    "}\n",
    "''' \n",
    "def write_output(x):\n",
    "    code = x.replace(\"```cpp\",\"\").replace(\"```\",\"\")\n",
    "    with open(\"generated_cpp.cpp\", \"w\") as f:\n",
    "        f.write(code)\n",
    "def execute_cpp(x):\n",
    "        write_output(x)\n",
    "        try:\n",
    "            compile_cmd = [\"clang++\", \"-Ofast\", \"-std=c++17\", \"-march=armv8.5-a\", \"-mtune=apple-m1\", \"-mcpu=apple-m1\", \"-o\", \"generated_cpp\", \"generated_cpp.cpp\"]\n",
    "            compile_result = subprocess.run(compile_cmd, check=True, text=True, capture_output=True)\n",
    "            run_cmd = [\"./generated_cpp\"]\n",
    "            run_result = subprocess.run(run_cmd, check=True, text=True, capture_output=True)\n",
    "            return run_result.stdout\n",
    "        except subprocess.CalledProcessError as e:\n",
    "            return f\"An error occurred:\\n{e.stderr}\"\n",
    "print('Execute C++:',execute_cpp(cppcode))"
   ]
  },
  {
   "cell_type": "code",
   "execution_count": 28,
   "id": "6d387ab2-d6da-4366-9a50-b048a3773800",
   "metadata": {},
   "outputs": [
    {
     "name": "stdout",
     "output_type": "stream",
     "text": [
      "Result: 3.141592658589\n",
      "Execution Time: 5.770024 seconds\n"
     ]
    }
   ],
   "source": [
    "import time\n",
    "code1 = '''\n",
    "def count(x,y):\n",
    "     a = []\n",
    "     for z in range(x,y+1):\n",
    "          a.append(z)\n",
    "     return str(a)\n",
    "start_time = time.time()\n",
    "result = count(1,10)\n",
    "end_time = time.time()\n",
    "print(\"Result:\", result)\n",
    "print(\"Execution Time: {:.6f}s\".format(end_time - start_time))\n",
    "'''\n",
    "code2 = '''\n",
    "print('hi')\n",
    "'''\n",
    "code3 = '''\n",
    "import time\n",
    "\n",
    "def calculate(iterations, param1, param2):\n",
    "    result = 1.0\n",
    "    for i in range(1, iterations+1):\n",
    "        j = i * param1 - param2\n",
    "        result -= (1/j)\n",
    "        j = i * param1 + param2\n",
    "        result += (1/j)\n",
    "    return result\n",
    "\n",
    "start_time = time.time()\n",
    "result = calculate(100_000_000, 4, 1) * 4\n",
    "end_time = time.time()\n",
    "\n",
    "print(f\"Result: {result:.12f}\")\n",
    "print(f\"Execution Time: {(end_time - start_time):.6f} seconds\")\n",
    "'''\n",
    "exec(code3)"
   ]
  },
  {
   "cell_type": "code",
   "execution_count": 12,
   "id": "90060947-0723-468b-993a-9070f5e60427",
   "metadata": {},
   "outputs": [
    {
     "name": "stdout",
     "output_type": "stream",
     "text": [
      "Hello World"
     ]
    }
   ],
   "source": [
    "!clang++ -O3 -std=c++17 -march=armv8.3-a -o generated_cpp generated_cpp.cpp\n",
    "!./generated_cpp"
   ]
  },
  {
   "cell_type": "code",
   "execution_count": 23,
   "id": "8a7c2667-e61e-43ec-8ddf-b1f9dec343a6",
   "metadata": {
    "scrolled": true
   },
   "outputs": [
    {
     "data": {
      "text/plain": [
       "'test test'"
      ]
     },
     "execution_count": 23,
     "metadata": {},
     "output_type": "execute_result"
    }
   ],
   "source": [
    "cpp_code1='''\n",
    "#include <stdio.h>\n",
    "\n",
    "int main() {\n",
    "    printf(\"Hello World\");\n",
    "    return 0;\n",
    "}\n",
    "\n",
    "'''\n",
    "cpp_code2='''\n",
    "#include <stdio.h>\n",
    "\n",
    "int main() {\n",
    "    printf(\"test test\");\n",
    "    return 0;\n",
    "}\n",
    "\n",
    "'''\n",
    "def write_output(x):\n",
    "    code = x.replace(\"```cpp\",\"\").replace(\"```\",\"\")\n",
    "    with open(\"generated_cpp.cpp\", \"w\") as f:\n",
    "        f.write(code)\n",
    "def execute_cpp(x):\n",
    "        write_output(x)\n",
    "        try:\n",
    "            compile_cmd = [\"clang++\", \"-Ofast\", \"-std=c++17\", \"-march=armv8.5-a\", \"-mtune=apple-m1\", \"-mcpu=apple-m1\", \"-o\", \"generated_cpp\", \"generated_cpp.cpp\"]\n",
    "            compile_result = subprocess.run(compile_cmd, check=True, text=True, capture_output=True)\n",
    "            run_cmd = [\"./generated_cpp\"]\n",
    "            run_result = subprocess.run(run_cmd, check=True, text=True, capture_output=True)\n",
    "            return run_result.stdout\n",
    "        except subprocess.CalledProcessError as e:\n",
    "            return f\"An error occurred:\\n{e.stderr}\"\n",
    "execute_cpp(cpp_code2)"
   ]
  },
  {
   "cell_type": "code",
   "execution_count": 4,
   "id": "44806e7a-debc-4319-8c89-3d5300599dba",
   "metadata": {},
   "outputs": [
    {
     "name": "stdout",
     "output_type": "stream",
     "text": [
      "today\n",
      "is\n",
      "sunny\n",
      "day\n",
      "!!None\n"
     ]
    }
   ],
   "source": [
    "import subprocess\n",
    "# 1 write ['ls', 'la'] at test.txt\n",
    "# with open('test.txt','w') as f:\n",
    "#     p1 = subprocess.run(['ls','-la'], stdout=f, text=True)\n",
    "# 2 read texst.txt\n",
    "p1 = subprocess.run(['more text.txt'], text=True, shell=True, check=True)\n",
    "print(p1.stdout)\n"
   ]
  }
 ],
 "metadata": {
  "kernelspec": {
   "display_name": "Python 3 (ipykernel)",
   "language": "python",
   "name": "python3"
  },
  "language_info": {
   "codemirror_mode": {
    "name": "ipython",
    "version": 3
   },
   "file_extension": ".py",
   "mimetype": "text/x-python",
   "name": "python",
   "nbconvert_exporter": "python",
   "pygments_lexer": "ipython3",
   "version": "3.11.11"
  }
 },
 "nbformat": 4,
 "nbformat_minor": 5
}
