{
 "cells": [
  {
   "cell_type": "markdown",
   "id": "b81f9ca2-d825-47b9-aad1-2fda7fc721b1",
   "metadata": {},
   "source": [
    "# Hugging Face Collection 3🤗"
   ]
  },
  {
   "cell_type": "markdown",
   "id": "bab2ffbb-ce80-4bc8-8959-cdaf11d731b2",
   "metadata": {
    "jp-MarkdownHeadingCollapsed": true
   },
   "source": [
    "#### Index\n",
    "\n",
    "9 Tool - Answer with Tavily\n",
    "\n",
    "10 Summarize with customised format\n",
    "\n",
    "11 Generate Image\n",
    "\n",
    "x Tool - keyword context"
   ]
  },
  {
   "cell_type": "markdown",
   "id": "a27d00f9-16c5-4065-9a31-32da66ec9745",
   "metadata": {},
   "source": [
    "# 9 Tool - Answer with Tavily"
   ]
  },
  {
   "cell_type": "code",
   "execution_count": 1,
   "id": "5959defd-5ac5-40ac-80de-135126a2d4e3",
   "metadata": {},
   "outputs": [
    {
     "name": "stdout",
     "output_type": "stream",
     "text": [
      "{'answer': 'Apple Inc. is an American multinational technology company headquartered.', 'url': 'https://en.wikipedia.org/wiki/Apple_Inc.'}\n"
     ]
    }
   ],
   "source": [
    "import os\n",
    "from dotenv import load_dotenv\n",
    "from huggingface_hub import InferenceClient\n",
    "from langchain_community.tools import TavilySearchResults\n",
    "load_dotenv()\n",
    "hf_token = os.environ['HF_TOKEN']\n",
    "headers = {'Authorization': f'Bearer {hf_token}'}\n",
    "def say(x1):\n",
    "    ctx = TavilySearchResults().run(f'{x1}')\n",
    "    msgs = [{'role': 'system', 'content': f\"You are an assistant. Please answer by 1 short sentence less than 10 words. Based on this data: data {ctx[0]}\"}]\n",
    "    llm = InferenceClient('meta-llama/Meta-Llama-3-8B-Instruct')\n",
    "    res = llm.chat_completion(messages=msgs, max_tokens=100)\n",
    "    return {'answer':res.choices[0].message.content,'url':ctx[0]['url']}\n",
    "print(say('What is Apple Inc.?'))\n",
    "# I want to get 3 answers with bubble list format "
   ]
  },
  {
   "cell_type": "markdown",
   "id": "c72fe836-68c9-4c49-9e7a-9d44736757ca",
   "metadata": {},
   "source": [
    "# 10 Summarize with customised format"
   ]
  },
  {
   "cell_type": "code",
   "execution_count": 1,
   "id": "8e82ae5a-1e1f-4fd9-bd56-2817b4653ff5",
   "metadata": {},
   "outputs": [
    {
     "name": "stdout",
     "output_type": "stream",
     "text": [
      "{'answer': 'Here are three answers with a bubble list format based on the text:\\n\\n**What are the paid subscriptions that the author uses as a Staff Software Engineer in 2025?**\\n\\n* Cursor: an AI programming tool that provides code completion and a chat feature for natural language questions\\n\\t+ Has the best chat of any code-aware chat tool\\n\\t+ Allows the author to work across the full stack with clarity and quality\\n* Kagi: a search engine that provides more accurate results\\n\\t+ Only'}\n"
     ]
    }
   ],
   "source": [
    "import os\n",
    "from dotenv import load_dotenv\n",
    "from huggingface_hub import InferenceClient\n",
    "load_dotenv()\n",
    "received2 = 'The 5 paid subscriptions I actually use in 2025 as a Staff Software Engineer Tools I use that are cheaper than Netflix Jacob Bennett Level Up Coding Jacob Bennett · Follow Published in Level Up Coding · 5 min read · Jan 8, 2025 11.7K 291 I care a lot about the tools I use. Especially when they aren’t free. Here’s what I’m paying for in 2025 to improve my performance and productivity as a software engineer. Please note: None of the links in this article are affiliate links. Cursor: the best AI programming tool Cursor feels like a bargain for the level-up it provides me. I’m an average programmer with a strong preference for back-end projects, but Cursor lets me work across the full stack with the clarity and quality of a much better engineer. A chat I had with Cursor regarding a copy-pasted code block Along with code completion, Cursor has the best chat of any code-aware chat tool I’ve used. Usually I’ll just highlight a code block that I’m looking at, press CMD + L, ask a question in natural language, and Cursor load all of the relevant context from the current project and external sources (e.g. package docs) and give me an immediately-useful answer. Learn more about Cursor → What about GitHub Copilot? I used Copilot for 8 months in 2024. It was great! (I even included it on my 2024 list.) But Cursor blows it out of the water. Copilot was the most accurate when I was writing generic/boilerplate code (e.g. API endpoints) or test cases with lots of repeated code blocks. Anything more complex (especially logic spanning multiple files and modules) and Copilot was unreliable. Cursor feels like an actual context-aware pair programmer with a decent understanding of the project I’m looking at. Kagi: a better search engine than Google I measure the effectiveness of searches by how long it takes me to find what I was actually looking for. By that measure, Google has been steadily getting worse. When I search for something on Kagi, the correct result is in the first 2 links 95% of the time. It’s in the top 5 links 99% of the time. That just doesn’t happen with Google, Bing, etc. The consistently great results page is further boosted by the search personalization… The 5 paid subscriptions I actually use in 2025 as a Staff Software Engineer Tools I use that are cheaper than Netflix Jacob Bennett Level Up Coding Jacob Bennett · Follow Published in Level Up Coding · 5 min read · Jan 8, 2025 11.7K 291 I care a lot about the tools I use. Especially when they aren’t free. Here’s what I’m paying for in 2025 to improve my performance and productivity as a software engineer. Please note: None of the links in this article are affiliate links. Cursor: the best AI programming tool Cursor feels like a bargain for the level-up it provides me. I’m an average programmer with a strong preference for back-end projects, but Cursor lets me work across the full stack with the clarity and quality of a much better engineer. A chat I had with Cursor regarding a copy-pasted code block Along with code completion, Cursor has the best chat of any code-aware chat tool I’ve used. Usually I’ll just highlight a code block that I’m looking at, press CMD + L, ask a question in natural language, and Cursor load all of the relevant context from the current project and external sources (e.g. package docs) and give me an immediately-useful answer. Learn more about Cursor → What about GitHub Copilot? I used Copilot for 8 months in 2024. It was great! (I even included it on my 2024 list.) But Cursor blows it out of the water. Copilot was the most accurate when I was writing generic/boilerplate code (e.g. API endpoints) or test cases with lots of repeated code blocks. Anything more complex (especially logic spanning multiple files and modules) and Copilot was unreliable. Cursor feels like an actual context-aware pair programmer with a decent understanding of the project I’m looking at. Kagi: a better search engine than Google I measure the effectiveness of searches by how long it takes me to find what I was actually looking for. By that measure, Google has been steadily getting worse. When I search for something on Kagi, the correct result is in the first 2 links 95% of the time. It’s in the top 5 links 99% of the time. That just doesn’t happen with Google, Bing, etc. The consistently great results page is further boosted by the search personalization…'\n",
    "msgs = [{'role': 'system', 'content': f\"You are an assistant. I want to get 3 answers with bubble list format based on this data: data {received2}\"}]\n",
    "llm = InferenceClient('meta-llama/Meta-Llama-3-8B-Instruct')\n",
    "res = llm.chat_completion(messages=msgs, max_tokens=100)\n",
    "print({'answer':res.choices[0].message.content})"
   ]
  },
  {
   "cell_type": "code",
   "execution_count": 2,
   "id": "b3a4b8f1-a3ac-4b3d-8fc4-25e60413651d",
   "metadata": {},
   "outputs": [
    {
     "ename": "IndentationError",
     "evalue": "unexpected indent (2021874879.py, line 28)",
     "output_type": "error",
     "traceback": [
      "\u001b[0;36m  Cell \u001b[0;32mIn[2], line 28\u001b[0;36m\u001b[0m\n\u001b[0;31m    summary_and_facts:Summary=summary_chain.invoke(input={'information':received2})\u001b[0m\n\u001b[0m    ^\u001b[0m\n\u001b[0;31mIndentationError\u001b[0m\u001b[0;31m:\u001b[0m unexpected indent\n"
     ]
    }
   ],
   "source": [
    "from langchain_core.prompts import PromptTemplate\n",
    "from pydantic import BaseModel, Field\n",
    "from typing import List,Dict,Any\n",
    "from langchain_core.output_parsers import PydanticOutputParser\n",
    "template = \"\"\"\n",
    "    Given the information about article {received2} I want you to create:\n",
    "    1. a short summary\n",
    "    2. list up 5 important things\n",
    "    \\n{format_instructions}\n",
    "\"\"\"\n",
    "class Summary(BaseModel):\n",
    "    summary:str = Field(description='summary')\n",
    "    points:List[str]=Field(description='important points')\n",
    "    def to_dict(self)->Dict[str,Any]:\n",
    "        return {'summary':self.summary, 'points':self.points}\n",
    "parser=PydanticOutputParser(pydantic_object=Summary)\n",
    "res = PromptTemplate(\n",
    "    input_variables=[\"information\"],\n",
    "    template=template,\n",
    "    partial_variables={'format_instructions': parser.get_format_instructions()},\n",
    ")\n",
    "def ice_break_with(name:str)->Tuple[Summary, str]:\n",
    "    summary_chain=get_summary_chain()\n",
    "            summary_and_facts:Summary=summary_chain.invoke(input={'information':received2})\n",
    "            print(summary_and_facts)\n",
    "# print(res)\n",
    "print(summary_and_facts.to_dict())"
   ]
  },
  {
   "cell_type": "markdown",
   "id": "850e4432-0991-430d-8f65-5efe64a52ce4",
   "metadata": {},
   "source": [
    "# 11 Generate image"
   ]
  },
  {
   "cell_type": "markdown",
   "id": "8749e50e-bba0-4f3e-8a3b-4236ec8234d3",
   "metadata": {},
   "source": [
    "# Tool - keyword context\n",
    "Tool & create agent are not able to added by huggingface. And openAi perovide cheaper to use tools."
   ]
  }
 ],
 "metadata": {
  "kernelspec": {
   "display_name": "Python 3 (ipykernel)",
   "language": "python",
   "name": "python3"
  },
  "language_info": {
   "codemirror_mode": {
    "name": "ipython",
    "version": 3
   },
   "file_extension": ".py",
   "mimetype": "text/x-python",
   "name": "python",
   "nbconvert_exporter": "python",
   "pygments_lexer": "ipython3",
   "version": "3.11.11"
  }
 },
 "nbformat": 4,
 "nbformat_minor": 5
}
